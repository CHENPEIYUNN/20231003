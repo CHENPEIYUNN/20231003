{
  "nbformat": 4,
  "nbformat_minor": 0,
  "metadata": {
    "colab": {
      "provenance": []
    },
    "kernelspec": {
      "name": "python3",
      "display_name": "Python 3"
    },
    "language_info": {
      "name": "python"
    }
  },
  "cells": [
    {
      "cell_type": "code",
      "execution_count": null,
      "metadata": {
        "colab": {
          "base_uri": "https://localhost:8080/"
        },
        "id": "2OunpxXVct1D",
        "outputId": "e0824461-d726-4b34-d020-a8a785faa4ef"
      },
      "outputs": [
        {
          "output_type": "stream",
          "name": "stdout",
          "text": [
            "A\n",
            "['K', 'H', 'U']\n"
          ]
        }
      ],
      "source": [
        "a = 'C,B,A'\n",
        "b = ['F','G','H']\n",
        "a = a.split(',')\n",
        "c = a+b\n",
        "c[0] = 'K'\n",
        "print(c.pop(2))\n",
        "del c[1:4]\n",
        "c.append('U')\n",
        "print(c)"
      ]
    },
    {
      "cell_type": "code",
      "source": [
        "h, w = float(input(\"請輸入身高(公尺)\")), float(input(\"請輸入體重(公斤)\"))\n",
        "h *= h\n",
        "bmi = w/h\n",
        "print('BMI:',bmi)\n",
        "if bmi<18.5:\n",
        "  print(\"體位:過輕\")\n",
        "elif bmi<24:\n",
        "  print(\"體位:適中\")\n",
        "elif bmi<27:\n",
        "  print(\"體位:過重\")\n",
        "else:\n",
        "  print(\"體位:肥胖\")"
      ],
      "metadata": {
        "colab": {
          "base_uri": "https://localhost:8080/"
        },
        "id": "Df7N9KVUlvYN",
        "outputId": "244ede4c-eeae-4f63-80cd-4b6ad2e09fc5"
      },
      "execution_count": null,
      "outputs": [
        {
          "output_type": "stream",
          "name": "stdout",
          "text": [
            "請輸入身高(公尺)1.676\n",
            "請輸入體重(公斤)55.5\n",
            "BMI: 19.758089780759963\n",
            "體位:適中\n"
          ]
        }
      ]
    }
  ]
}