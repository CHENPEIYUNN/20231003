{
  "nbformat": 4,
  "nbformat_minor": 0,
  "metadata": {
    "colab": {
      "provenance": []
    },
    "kernelspec": {
      "name": "python3",
      "display_name": "Python 3"
    },
    "language_info": {
      "name": "python"
    }
  },
  "cells": [
    {
      "cell_type": "code",
      "execution_count": 37,
      "metadata": {
        "colab": {
          "base_uri": "https://localhost:8080/"
        },
        "id": "-yHBmGLHXRb6",
        "outputId": "211b3dc2-1eb4-4127-9f9a-bd59ec058949"
      },
      "outputs": [
        {
          "output_type": "stream",
          "name": "stdout",
          "text": [
            "請輸入5個成績，並以空格隔開60 50 90 80 70\n",
            "70.0\n"
          ]
        }
      ],
      "source": [
        "a = input(\"請輸入5個成績，並以空格隔開\")\n",
        "a = a.split(' ')\n",
        "a.sort()\n",
        "del a[0]\n",
        "del a[-1]\n",
        "mean = (int(a[0])+int(a[1])+int(a[2]))/3\n",
        "print(mean)"
      ]
    },
    {
      "cell_type": "code",
      "source": [
        "a = input(\"請輸入一個算式，包含兩個數字和一個運算符號(+,-,*,/)，並用空格隔開\")\n",
        "a = a.split(' ')\n",
        "if a[1]=='+':\n",
        "  print(int(a[0])+int(a[-1]))\n",
        "elif a[1]=='-':\n",
        "  print(int(a[0])-int(a[-1]))\n",
        "elif a[1]=='*':\n",
        "  print(int(a[0])*int(a[-1]))\n",
        "else:\n",
        "  print(int(a[0])/int(a[-1]))\n"
      ],
      "metadata": {
        "colab": {
          "base_uri": "https://localhost:8080/"
        },
        "id": "aX5bn7-bZJ2x",
        "outputId": "5dae7bf6-156e-460b-892b-2b06b0b79c83"
      },
      "execution_count": 31,
      "outputs": [
        {
          "output_type": "stream",
          "name": "stdout",
          "text": [
            "請輸入一個算式，包含兩個數字和一個運算符號(+,-,*,/)，並用空格隔開78 - 89\n",
            "-11\n"
          ]
        }
      ]
    },
    {
      "cell_type": "code",
      "source": [
        "a = int(input(\"請輸入西元年\"))\n",
        "if a<1582:\n",
        "  if a%4==0:\n",
        "    print(\"閏年\")\n",
        "  else:\n",
        "    print(\"平年\")\n",
        "else:\n",
        "  if a%400==0:\n",
        "    print(\"閏年\")\n",
        "  elif a%100==0:\n",
        "    print(\"平年\")\n",
        "  elif a%4==0:\n",
        "    print(\"閏年\")\n",
        "  else:\n",
        "    print(\"平年\")"
      ],
      "metadata": {
        "colab": {
          "base_uri": "https://localhost:8080/"
        },
        "id": "VP5nd8X4phSn",
        "outputId": "d9229d6e-9cfb-465e-c509-9b6339b6eb63"
      },
      "execution_count": 41,
      "outputs": [
        {
          "output_type": "stream",
          "name": "stdout",
          "text": [
            "請輸入西元年1300\n",
            "閏年\n"
          ]
        }
      ]
    }
  ]
}